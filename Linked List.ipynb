{
 "cells": [
  {
   "cell_type": "code",
   "execution_count": 9,
   "id": "31a48922",
   "metadata": {},
   "outputs": [
    {
     "name": "stdout",
     "output_type": "stream",
     "text": [
      "14 ----> 12 ----> 10 ----> \n"
     ]
    }
   ],
   "source": [
    "#linkedlist implementation in python \n",
    "class Node:\n",
    "    def __init__(self,data=None,next=None):\n",
    "        self.data=data\n",
    "        self.next=next\n",
    "    \n",
    "class LinkedList:\n",
    "    def __init__(self):\n",
    "        self.head=None\n",
    "\n",
    "    def insert_at_beginning(self,data):\n",
    "        node=Node(data,self.head)\n",
    "        self.head=node\n",
    "    def print(self):\n",
    "        if self.head is None:\n",
    "            print(\"linkedlist is empty\")\n",
    "            return\n",
    "        \n",
    "        itr=self.head\n",
    "        llstr=''\n",
    "        while itr:\n",
    "            llstr += str(itr.data) + \" ----> \"\n",
    "            itr=itr.next\n",
    "        print(llstr)\n",
    "        \n",
    "if __name__ == '__main__':\n",
    "    ll = LinkedList()\n",
    "    ll.insert_at_beginning(10)\n",
    "    ll.insert_at_beginning(12)\n",
    "    ll.insert_at_beginning(14)\n",
    "    ll.print()"
   ]
  },
  {
   "cell_type": "code",
   "execution_count": null,
   "id": "3aaa4c88",
   "metadata": {},
   "outputs": [],
   "source": []
  }
 ],
 "metadata": {
  "kernelspec": {
   "display_name": "Python 3",
   "language": "python",
   "name": "python3"
  },
  "language_info": {
   "codemirror_mode": {
    "name": "ipython",
    "version": 3
   },
   "file_extension": ".py",
   "mimetype": "text/x-python",
   "name": "python",
   "nbconvert_exporter": "python",
   "pygments_lexer": "ipython3",
   "version": "3.8.8"
  }
 },
 "nbformat": 4,
 "nbformat_minor": 5
}
