{
 "cells": [
  {
   "cell_type": "code",
   "execution_count": null,
   "id": "da856533",
   "metadata": {},
   "outputs": [],
   "source": [
    "#Exercise 1\n",
    "#Let us say your expense for every month are listed below,\n",
    "#January - 2200\n",
    "#February - 2350\n",
    "#March - 2600\n",
    "#April - 2130\n",
    "#May - 2190\n",
    "#Create a list to store these monthly expenses and using that find out,"
   ]
  },
  {
   "cell_type": "code",
   "execution_count": 15,
   "id": "92c333b3",
   "metadata": {},
   "outputs": [
    {
     "data": {
      "text/plain": [
       "150"
      ]
     },
     "execution_count": 15,
     "metadata": {},
     "output_type": "execute_result"
    }
   ],
   "source": [
    "#1. In Feb, how many dollars you spent extra compare to January?\n",
    "\n",
    "exp=[2200,2350,2600,2130,2190]\n",
    "exp[1]-exp[0]"
   ]
  },
  {
   "cell_type": "code",
   "execution_count": 16,
   "id": "c09f4f6c",
   "metadata": {},
   "outputs": [
    {
     "data": {
      "text/plain": [
       "7150"
      ]
     },
     "execution_count": 16,
     "metadata": {},
     "output_type": "execute_result"
    }
   ],
   "source": [
    "#2. Find out your total expense in first quarter (first three months) of the year.\n",
    "\n",
    "exp[0]+exp[1]+exp[2]"
   ]
  },
  {
   "cell_type": "code",
   "execution_count": 17,
   "id": "443bedc9",
   "metadata": {},
   "outputs": [
    {
     "name": "stdout",
     "output_type": "stream",
     "text": [
      "False\n"
     ]
    }
   ],
   "source": [
    "#3. Find out if you spent exactly 2000 dollars in any month\n",
    "\n",
    "print(2000 in exp)"
   ]
  },
  {
   "cell_type": "code",
   "execution_count": 27,
   "id": "d4ed8731",
   "metadata": {},
   "outputs": [
    {
     "name": "stdout",
     "output_type": "stream",
     "text": [
      "[2200, 2350, 2600, 2130, 2190, 1980]\n"
     ]
    }
   ],
   "source": [
    "#4. June month just finished and your expense is 1980 dollar. Add this item to our monthly expense list\n",
    "\n",
    "exp=[2200,2350,2600,2130,2190]\n",
    "exp.append(1980)\n",
    "print(exp)"
   ]
  },
  {
   "cell_type": "code",
   "execution_count": 40,
   "id": "c3e327a5",
   "metadata": {},
   "outputs": [
    {
     "name": "stdout",
     "output_type": "stream",
     "text": [
      "[2200, 2350, 2600, 2330, 2190, 1980]\n"
     ]
    }
   ],
   "source": [
    "#5. You returned an item that you bought in a month of April and\n",
    "#got a refund of 200$. Make a correction to your monthly expense list\n",
    "#based on this\n",
    "\n",
    "exp=[2200, 2350, 2600, 2130, 2190, 1980]\n",
    "exp[3]=exp[3]+200\n",
    "print(exp)"
   ]
  },
  {
   "cell_type": "code",
   "execution_count": null,
   "id": "5e50fd1f",
   "metadata": {},
   "outputs": [],
   "source": [
    "#Exercise 2\n",
    "#You have a list of your favourite marvel super heros.\n",
    "#heros=['spider man','thor','hulk','iron man','captain america']\n",
    "#Using this find out,\n",
    "\n"
   ]
  },
  {
   "cell_type": "code",
   "execution_count": 56,
   "id": "0487e1fa",
   "metadata": {},
   "outputs": [
    {
     "data": {
      "text/plain": [
       "5"
      ]
     },
     "execution_count": 56,
     "metadata": {},
     "output_type": "execute_result"
    }
   ],
   "source": [
    "#1. Length of the list\n",
    "\n",
    "heros=['spider man','thor','hulk','iron man','captain america']\n",
    "len(heros)"
   ]
  },
  {
   "cell_type": "code",
   "execution_count": 57,
   "id": "282a2a73",
   "metadata": {},
   "outputs": [
    {
     "name": "stdout",
     "output_type": "stream",
     "text": [
      "['spider man', 'thor', 'hulk', 'iron man', 'captain america', 'black panther']\n"
     ]
    }
   ],
   "source": [
    "#2. Add 'black panther' at the end of this list\n",
    "\n",
    "heros.append('black panther')\n",
    "print(heros)\n"
   ]
  },
  {
   "cell_type": "code",
   "execution_count": 58,
   "id": "14b0a1e2",
   "metadata": {},
   "outputs": [
    {
     "name": "stdout",
     "output_type": "stream",
     "text": [
      "['spider man', 'thor', 'hulk', 'iron man', 'captain america']\n"
     ]
    }
   ],
   "source": [
    "#3. You realize that you need to add 'black panther' after 'hulk',\n",
    "#so remove it from the list first and then add it after 'hulk'\n",
    "\n",
    "heros.remove('black panther')\n",
    "print(heros)\n"
   ]
  },
  {
   "cell_type": "code",
   "execution_count": 59,
   "id": "9ba57363",
   "metadata": {},
   "outputs": [
    {
     "name": "stdout",
     "output_type": "stream",
     "text": [
      "['spider man', 'thor', 'hulk', 'black panther', 'iron man', 'captain america']\n"
     ]
    }
   ],
   "source": [
    "heros.insert(3,'black panther')\n",
    "print(heros)"
   ]
  },
  {
   "cell_type": "code",
   "execution_count": 68,
   "id": "d78311ae",
   "metadata": {},
   "outputs": [
    {
     "name": "stdout",
     "output_type": "stream",
     "text": [
      "['black panther', 'docstrange', 'iron man', 'spider man']\n"
     ]
    }
   ],
   "source": [
    "#4. Now you don't like thor and hulk because they get angry easily :)\n",
    "#So you want to remove thor and hulk from list and replace them with doctor strange (because he is cool).\n",
    "#Do that with one line of code.\n",
    "\n",
    "heros[1:3]=['docstrange']\n",
    "print(heros)"
   ]
  },
  {
   "cell_type": "code",
   "execution_count": 67,
   "id": "4f87ccfe",
   "metadata": {},
   "outputs": [
    {
     "name": "stdout",
     "output_type": "stream",
     "text": [
      "['black panther', 'captain america', 'docstrange', 'iron man', 'spider man']\n"
     ]
    }
   ],
   "source": [
    "#5. Sort the heros list in alphabetical order \n",
    "#(Hint. Use dir() functions to list down all functions available in list)\n",
    "\n",
    "heros.sort()\n",
    "print(heros)"
   ]
  }
 ],
 "metadata": {
  "kernelspec": {
   "display_name": "Python 3",
   "language": "python",
   "name": "python3"
  },
  "language_info": {
   "codemirror_mode": {
    "name": "ipython",
    "version": 3
   },
   "file_extension": ".py",
   "mimetype": "text/x-python",
   "name": "python",
   "nbconvert_exporter": "python",
   "pygments_lexer": "ipython3",
   "version": "3.8.8"
  }
 },
 "nbformat": 4,
 "nbformat_minor": 5
}
