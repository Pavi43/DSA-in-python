{
 "cells": [
  {
   "cell_type": "code",
   "execution_count": 7,
   "id": "0f33c6f2",
   "metadata": {},
   "outputs": [
    {
     "data": {
      "text/plain": [
       "[4, 9, 16, 25, 36]"
      ]
     },
     "execution_count": 7,
     "metadata": {},
     "output_type": "execute_result"
    }
   ],
   "source": [
    "#Squared numbers\n",
    "def get_squared_numbers(numbers):\n",
    "    squared_numbers=[]\n",
    "    for n in numbers:\n",
    "        squared_numbers.append(n*n)\n",
    "    return squared_numbers\n",
    "numbers=[2,3,4,5,6]\n",
    "get_squared_numbers(numbers)\n",
    "\n",
    "        "
   ]
  },
  {
   "cell_type": "code",
   "execution_count": 17,
   "id": "1604ae59",
   "metadata": {},
   "outputs": [
    {
     "name": "stdout",
     "output_type": "stream",
     "text": [
      "7\n"
     ]
    }
   ],
   "source": [
    "#duplication of numbers\n",
    "numbers=[3,4,5,6,7,7,8]\n",
    "\n",
    "for i in range (len(numbers)):\n",
    "    for j in range(i+1,len(numbers)):\n",
    "        if numbers[i]==numbers[j]:\n",
    "            print(numbers[i]) \n",
    "            break"
   ]
  },
  {
   "cell_type": "code",
   "execution_count": 19,
   "id": "e554d39c",
   "metadata": {},
   "outputs": [
    {
     "name": "stdout",
     "output_type": "stream",
     "text": [
      "4\n",
      "5\n"
     ]
    }
   ],
   "source": [
    "numbers=[3,4,5,6,7,7,8]\n",
    "\n",
    "for i in range (len(numbers)):\n",
    "    for j in range(i+1,len(numbers)):\n",
    "        if numbers[i]==numbers[j]:\n",
    "            duplicate=numbers[i]\n",
    "            break\n",
    "for i in range(len(numbers)):\n",
    "    if numbers[i]==duplicate:\n",
    "        print(i)"
   ]
  },
  {
   "cell_type": "code",
   "execution_count": 23,
   "id": "b5973646",
   "metadata": {},
   "outputs": [
    {
     "name": "stdout",
     "output_type": "stream",
     "text": [
      "5\n"
     ]
    }
   ],
   "source": [
    "#indexing\n",
    "number=[2,3,4,5,6,7,8,9,1]\n",
    "for i in range(len(number)):\n",
    "    if number[i]==7:\n",
    "        print(i)"
   ]
  },
  {
   "cell_type": "code",
   "execution_count": null,
   "id": "c5e728c3",
   "metadata": {},
   "outputs": [],
   "source": []
  }
 ],
 "metadata": {
  "kernelspec": {
   "display_name": "Python 3",
   "language": "python",
   "name": "python3"
  },
  "language_info": {
   "codemirror_mode": {
    "name": "ipython",
    "version": 3
   },
   "file_extension": ".py",
   "mimetype": "text/x-python",
   "name": "python",
   "nbconvert_exporter": "python",
   "pygments_lexer": "ipython3",
   "version": "3.8.8"
  }
 },
 "nbformat": 4,
 "nbformat_minor": 5
}
